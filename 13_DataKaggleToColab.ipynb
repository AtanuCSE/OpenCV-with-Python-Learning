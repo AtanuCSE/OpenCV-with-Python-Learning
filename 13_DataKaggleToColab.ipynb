{
  "nbformat": 4,
  "nbformat_minor": 0,
  "metadata": {
    "colab": {
      "name": "13 DataKaggleToColab.ipynb",
      "provenance": [],
      "collapsed_sections": []
    },
    "kernelspec": {
      "name": "python3",
      "display_name": "Python 3"
    },
    "language_info": {
      "name": "python"
    }
  },
  "cells": [
    {
      "cell_type": "code",
      "execution_count": 2,
      "metadata": {
        "colab": {
          "base_uri": "https://localhost:8080/"
        },
        "id": "jSZOe1gSSF20",
        "outputId": "9cf68ee8-e95b-47a7-915d-a499c63dedb3"
      },
      "outputs": [
        {
          "output_type": "stream",
          "name": "stdout",
          "text": [
            "Requirement already satisfied: kaggle in /usr/local/lib/python3.7/dist-packages (1.5.12)\n",
            "Requirement already satisfied: certifi in /usr/local/lib/python3.7/dist-packages (from kaggle) (2021.10.8)\n",
            "Requirement already satisfied: requests in /usr/local/lib/python3.7/dist-packages (from kaggle) (2.23.0)\n",
            "Requirement already satisfied: urllib3 in /usr/local/lib/python3.7/dist-packages (from kaggle) (1.24.3)\n",
            "Requirement already satisfied: six>=1.10 in /usr/local/lib/python3.7/dist-packages (from kaggle) (1.15.0)\n",
            "Requirement already satisfied: tqdm in /usr/local/lib/python3.7/dist-packages (from kaggle) (4.63.0)\n",
            "Requirement already satisfied: python-dateutil in /usr/local/lib/python3.7/dist-packages (from kaggle) (2.8.2)\n",
            "Requirement already satisfied: python-slugify in /usr/local/lib/python3.7/dist-packages (from kaggle) (6.1.1)\n",
            "Requirement already satisfied: text-unidecode>=1.3 in /usr/local/lib/python3.7/dist-packages (from python-slugify->kaggle) (1.3)\n",
            "Requirement already satisfied: chardet<4,>=3.0.2 in /usr/local/lib/python3.7/dist-packages (from requests->kaggle) (3.0.4)\n",
            "Requirement already satisfied: idna<3,>=2.5 in /usr/local/lib/python3.7/dist-packages (from requests->kaggle) (2.10)\n"
          ]
        }
      ],
      "source": [
        "!pip install kaggle"
      ]
    },
    {
      "cell_type": "code",
      "source": [
        "!mkdir ~/.kaggle\n",
        "!touch ~/.kaggle/kaggle.json\n",
        "\n",
        "os.environ['KAGGLE_USERNAME'] = 'UserName'\n",
        "os.environ['KAGGLE_KEY'] = 'KaggleKey'\n",
        "api_token = {\"username\":\"UserName\",\"key\":\"KaggleKey\"}\n",
        "\n",
        "import json\n",
        "import zipfile\n",
        "import os\n",
        "with open('/content/.kaggle/kaggle.json', 'w') as file:\n",
        "    json.dump(api_token, file)\n",
        "!chmod 600 /content/.kaggle/kaggle.json\n",
        "!kaggle config set -n path -v /content\n"
      ],
      "metadata": {
        "colab": {
          "base_uri": "https://localhost:8080/"
        },
        "id": "oPPCVWELUBp6",
        "outputId": "0c8cba6d-f2c3-4623-dfc8-f32a3479381f"
      },
      "execution_count": 13,
      "outputs": [
        {
          "output_type": "stream",
          "name": "stdout",
          "text": [
            "mkdir: cannot create directory ‘/root/.kaggle’: File exists\n",
            "Expecting value: line 1 column 1 (char 0)\n"
          ]
        }
      ]
    },
    {
      "cell_type": "code",
      "source": [
        "!kaggle datasets list -s \"The Simpsons Characters\"\n"
      ],
      "metadata": {
        "colab": {
          "base_uri": "https://localhost:8080/"
        },
        "id": "sVx8n5azUMT1",
        "outputId": "f4fac08a-5fe6-4430-d260-ebf79b59274b"
      },
      "execution_count": 17,
      "outputs": [
        {
          "output_type": "stream",
          "name": "stdout",
          "text": [
            "ref                                                                title                                            size  lastUpdated          downloadCount  voteCount  usabilityRating  \n",
            "-----------------------------------------------------------------  ----------------------------------------------  -----  -------------------  -------------  ---------  ---------------  \n",
            "datasets/alexattia/the-simpsons-characters-dataset                 The Simpsons Characters Data                      1GB  2018-04-13 22:55:01          17026        470  0.7941176        \n",
            "datasets/mlwhiz/simpsons-main-characters                           Simpsons Main Characters                        153MB  2020-09-19 13:00:52            438         16  0.75             \n",
            "datasets/paultimothymooney/zipfiles                                The Simpsons Characters Data (zipfiles)         530MB  2017-11-03 18:20:30            183          4  0.75             \n",
            "datasets/ssokmen/the-simpsons-annotated                            The Simpsons Annotated                           46MB  2019-12-27 15:17:36             33          4  0.5625           \n",
            "datasets/phsaikiran/the-simpsons-characters-data-tfrecords         The Simpsons Characters Data - TFRecords        431MB  2021-01-24 20:44:49              7          1  0.375            \n",
            "datasets/williamu32/dataset-bart-or-homer                          The Simpsons (Bart and Homer) Data                8MB  2021-06-12 20:57:05             27          3  1.0              \n",
            "datasets/rafamendonca/simpsons-50-characters-images-meanbalanced   Simpsons 50 Characters Images - Meanbalanced    385MB  2021-01-13 20:08:42              0          0  0.375            \n",
            "datasets/rafamendonca/simpsons-50-characters-images-unbalanced     Simpsons 50 Characters Images - Unbalanced      398MB  2021-01-13 20:08:39              1          0  0.25             \n",
            "datasets/rafamendonca/simpsons-50-characters-images-oversampling   Simpsons 50 Characters Images - Oversampling      2GB  2021-01-13 20:42:59              4          0  0.25             \n",
            "datasets/rafamendonca/simpsons-50-characters-images-undersampling  Simpsons 50 Characters Images - Undersampling    76MB  2021-01-13 19:45:23              0          0  0.25             \n",
            "datasets/rafamendonca/simpsons-50-characters-images-test-dataset   Simpsons 50 Characters - Images - Test Dataset    3MB  2021-01-29 18:10:02              1          0  0.375            \n",
            "datasets/anacomo/simpsonsdataset                                   simpsons-dataset                                792MB  2022-01-08 14:42:09              0          0  0.25             \n"
          ]
        }
      ]
    },
    {
      "cell_type": "code",
      "source": [
        "!kaggle datasets download -d \"alexattia/the-simpsons-characters-dataset\""
      ],
      "metadata": {
        "colab": {
          "base_uri": "https://localhost:8080/"
        },
        "id": "cX3GYrz_Z1eI",
        "outputId": "be41993d-24e8-4e4c-c0d5-5ecb5ef0ef38"
      },
      "execution_count": 18,
      "outputs": [
        {
          "output_type": "stream",
          "name": "stdout",
          "text": [
            "Downloading the-simpsons-characters-dataset.zip to /content\n",
            "100% 1.07G/1.08G [00:44<00:00, 33.3MB/s]\n",
            "100% 1.08G/1.08G [00:44<00:00, 26.3MB/s]\n"
          ]
        }
      ]
    },
    {
      "cell_type": "code",
      "source": [
        "!unzip '/content/dataset/the-simpsons-characters-dataset.zip' -d '/content/dataset/'"
      ],
      "metadata": {
        "id": "Q0l7H-xcapIB"
      },
      "execution_count": null,
      "outputs": []
    }
  ]
}